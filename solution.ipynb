{
 "cells": [
  {
   "cell_type": "code",
   "execution_count": 1,
   "metadata": {},
   "outputs": [
    {
     "name": "stderr",
     "output_type": "stream",
     "text": [
      "C:\\Users\\User\\Anaconda3\\lib\\site-packages\\h5py\\__init__.py:36: FutureWarning: Conversion of the second argument of issubdtype from `float` to `np.floating` is deprecated. In future, it will be treated as `np.float64 == np.dtype(float).type`.\n",
      "  from ._conv import register_converters as _register_converters\n",
      "Using TensorFlow backend.\n"
     ]
    }
   ],
   "source": [
    "import numpy as np\n",
    "import gym\n",
    "\n",
    "from keras.models import Sequential\n",
    "from keras.layers import Dense, Activation, Flatten\n",
    "from keras.optimizers import Adam\n",
    "\n",
    "from rl.agents.dqn import DQNAgent\n",
    "from rl.policy import MaxBoltzmannQPolicy\n",
    "from rl.memory import SequentialMemory\n",
    "\n",
    "from keras.models import load_model\n",
    "from keras.models import model_from_json"
   ]
  },
  {
   "cell_type": "code",
   "execution_count": 2,
   "metadata": {},
   "outputs": [],
   "source": [
    "ENV_NAME = 'LunarLander-v2'\n",
    "\n",
    "# Get the environment and extract the number of actions available in the Cartpole problem\n",
    "env = gym.make(\"LunarLander-v2\")\n",
    "np.random.seed(123)\n",
    "env.seed(123)\n",
    "nb_actions = env.action_space.n"
   ]
  },
  {
   "cell_type": "code",
   "execution_count": 3,
   "metadata": {},
   "outputs": [
    {
     "name": "stdout",
     "output_type": "stream",
     "text": [
      "WARNING:tensorflow:From C:\\Users\\User\\Anaconda3\\lib\\site-packages\\tensorflow\\python\\framework\\op_def_library.py:263: colocate_with (from tensorflow.python.framework.ops) is deprecated and will be removed in a future version.\n",
      "Instructions for updating:\n",
      "Colocations handled automatically by placer.\n",
      "_________________________________________________________________\n",
      "Layer (type)                 Output Shape              Param #   \n",
      "=================================================================\n",
      "flatten_1 (Flatten)          (None, 8)                 0         \n",
      "_________________________________________________________________\n",
      "dense_1 (Dense)              (None, 128)               1152      \n",
      "_________________________________________________________________\n",
      "activation_1 (Activation)    (None, 128)               0         \n",
      "_________________________________________________________________\n",
      "dense_2 (Dense)              (None, 128)               16512     \n",
      "_________________________________________________________________\n",
      "activation_2 (Activation)    (None, 128)               0         \n",
      "_________________________________________________________________\n",
      "dense_3 (Dense)              (None, 64)                8256      \n",
      "_________________________________________________________________\n",
      "activation_3 (Activation)    (None, 64)                0         \n",
      "_________________________________________________________________\n",
      "dense_4 (Dense)              (None, 4)                 260       \n",
      "_________________________________________________________________\n",
      "activation_4 (Activation)    (None, 4)                 0         \n",
      "=================================================================\n",
      "Total params: 26,180\n",
      "Trainable params: 26,180\n",
      "Non-trainable params: 0\n",
      "_________________________________________________________________\n",
      "None\n"
     ]
    }
   ],
   "source": [
    "model = Sequential()\n",
    "model.add(Flatten(input_shape=(1,) + env.observation_space.shape))\n",
    "model.add(Dense(128))\n",
    "model.add(Activation('relu'))\n",
    "model.add(Dense(128))\n",
    "model.add(Activation('relu'))\n",
    "model.add(Dense(64))\n",
    "model.add(Activation('relu'))\n",
    "model.add(Dense(nb_actions))\n",
    "model.add(Activation('linear'))\n",
    "print(model.summary())"
   ]
  },
  {
   "cell_type": "code",
   "execution_count": 4,
   "metadata": {},
   "outputs": [],
   "source": [
    "policy = MaxBoltzmannQPolicy()\n",
    "memory = SequentialMemory(limit=50000, window_length=1)"
   ]
  },
  {
   "cell_type": "code",
   "execution_count": null,
   "metadata": {},
   "outputs": [],
   "source": []
  },
  {
   "cell_type": "code",
   "execution_count": 5,
   "metadata": {},
   "outputs": [],
   "source": [
    "json_file = open(\"mnist_model253.json\", \"r\")\n",
    "loaded_model_json = json_file.read()\n",
    "json_file.close()\n",
    "\n",
    "loaded_model = model_from_json(loaded_model_json)\n",
    "\n",
    "loaded_model.load_weights(\"mnist_model253.h5\")"
   ]
  },
  {
   "cell_type": "code",
   "execution_count": 6,
   "metadata": {},
   "outputs": [],
   "source": [
    "dqn = DQNAgent(model=loaded_model, nb_actions=nb_actions, memory=memory, nb_steps_warmup=40,\n",
    "target_model_update=1e-2, policy=policy)\n",
    "\n",
    "dqn.compile(Adam(lr=1e-3), metrics=['mae'])"
   ]
  },
  {
   "cell_type": "code",
   "execution_count": 9,
   "metadata": {},
   "outputs": [
    {
     "name": "stdout",
     "output_type": "stream",
     "text": [
      "Testing for 100 episodes ...\n",
      "Episode 1: reward: 301.262, steps: 186\n",
      "Episode 2: reward: 218.765, steps: 446\n",
      "Episode 3: reward: 265.895, steps: 158\n",
      "Episode 4: reward: 280.825, steps: 170\n",
      "Episode 5: reward: 244.692, steps: 168\n",
      "Episode 6: reward: 290.187, steps: 174\n",
      "Episode 7: reward: 259.910, steps: 316\n",
      "Episode 8: reward: 260.602, steps: 392\n",
      "Episode 9: reward: 280.459, steps: 151\n",
      "Episode 10: reward: 298.265, steps: 203\n",
      "Episode 11: reward: 233.880, steps: 643\n",
      "Episode 12: reward: 313.315, steps: 213\n",
      "Episode 13: reward: 311.694, steps: 212\n",
      "Episode 14: reward: 268.749, steps: 341\n",
      "Episode 15: reward: 290.423, steps: 204\n",
      "Episode 16: reward: 158.530, steps: 1000\n",
      "Episode 17: reward: 279.889, steps: 175\n",
      "Episode 18: reward: 270.064, steps: 164\n",
      "Episode 19: reward: 317.468, steps: 168\n",
      "Episode 20: reward: 305.638, steps: 194\n",
      "Episode 21: reward: 300.321, steps: 192\n",
      "Episode 22: reward: 185.189, steps: 1000\n",
      "Episode 23: reward: 313.705, steps: 172\n",
      "Episode 24: reward: 165.366, steps: 1000\n",
      "Episode 25: reward: 252.612, steps: 143\n",
      "Episode 26: reward: 139.999, steps: 1000\n",
      "Episode 27: reward: 310.883, steps: 180\n",
      "Episode 28: reward: 260.850, steps: 952\n",
      "Episode 29: reward: 271.743, steps: 375\n",
      "Episode 30: reward: 302.744, steps: 209\n",
      "Episode 31: reward: 292.202, steps: 194\n",
      "Episode 32: reward: 176.561, steps: 1000\n",
      "Episode 33: reward: 141.254, steps: 1000\n",
      "Episode 34: reward: 264.988, steps: 159\n",
      "Episode 35: reward: 318.256, steps: 203\n",
      "Episode 36: reward: 155.572, steps: 1000\n",
      "Episode 37: reward: 234.031, steps: 203\n",
      "Episode 38: reward: 282.019, steps: 229\n",
      "Episode 39: reward: 180.067, steps: 1000\n",
      "Episode 40: reward: 257.679, steps: 293\n",
      "Episode 41: reward: 273.908, steps: 248\n",
      "Episode 42: reward: 283.806, steps: 163\n",
      "Episode 43: reward: 315.746, steps: 191\n",
      "Episode 44: reward: 276.734, steps: 191\n",
      "Episode 45: reward: 266.008, steps: 965\n",
      "Episode 46: reward: 189.079, steps: 1000\n",
      "Episode 47: reward: 321.219, steps: 189\n",
      "Episode 48: reward: 235.236, steps: 548\n",
      "Episode 49: reward: 314.340, steps: 173\n",
      "Episode 50: reward: 266.758, steps: 802\n",
      "Episode 51: reward: 245.959, steps: 446\n",
      "Episode 52: reward: 279.025, steps: 137\n",
      "Episode 53: reward: 136.327, steps: 1000\n",
      "Episode 54: reward: 277.119, steps: 229\n",
      "Episode 55: reward: 281.103, steps: 210\n",
      "Episode 56: reward: 292.408, steps: 232\n",
      "Episode 57: reward: 176.204, steps: 1000\n",
      "Episode 58: reward: 284.734, steps: 261\n",
      "Episode 59: reward: 264.870, steps: 164\n",
      "Episode 60: reward: 241.760, steps: 200\n",
      "Episode 61: reward: 249.247, steps: 880\n",
      "Episode 62: reward: 157.988, steps: 1000\n",
      "Episode 63: reward: 290.258, steps: 260\n",
      "Episode 64: reward: 183.031, steps: 1000\n",
      "Episode 65: reward: 288.560, steps: 171\n",
      "Episode 66: reward: 294.891, steps: 161\n",
      "Episode 67: reward: 279.617, steps: 252\n",
      "Episode 68: reward: 171.429, steps: 1000\n",
      "Episode 69: reward: 275.864, steps: 178\n",
      "Episode 70: reward: 261.037, steps: 724\n",
      "Episode 71: reward: 284.191, steps: 198\n",
      "Episode 72: reward: 156.504, steps: 1000\n",
      "Episode 73: reward: 251.911, steps: 616\n",
      "Episode 74: reward: 154.911, steps: 1000\n",
      "Episode 75: reward: 172.002, steps: 1000\n",
      "Episode 76: reward: 268.479, steps: 223\n",
      "Episode 77: reward: 314.058, steps: 185\n",
      "Episode 78: reward: 277.102, steps: 154\n",
      "Episode 79: reward: 166.849, steps: 1000\n",
      "Episode 80: reward: 262.014, steps: 374\n",
      "Episode 81: reward: 295.630, steps: 196\n",
      "Episode 82: reward: 266.749, steps: 924\n",
      "Episode 83: reward: 176.858, steps: 1000\n",
      "Episode 84: reward: 144.883, steps: 1000\n",
      "Episode 85: reward: 238.181, steps: 255\n",
      "Episode 86: reward: 250.457, steps: 523\n",
      "Episode 87: reward: 286.138, steps: 164\n",
      "Episode 88: reward: 301.336, steps: 210\n",
      "Episode 89: reward: 252.292, steps: 235\n",
      "Episode 90: reward: 250.470, steps: 486\n",
      "Episode 91: reward: 254.638, steps: 973\n",
      "Episode 92: reward: 292.035, steps: 165\n",
      "Episode 93: reward: 142.526, steps: 1000\n",
      "Episode 94: reward: 321.423, steps: 229\n",
      "Episode 95: reward: 287.569, steps: 171\n",
      "Episode 96: reward: 308.212, steps: 167\n",
      "Episode 97: reward: 249.305, steps: 217\n",
      "Episode 98: reward: 182.040, steps: 1000\n",
      "Episode 99: reward: 314.755, steps: 215\n",
      "Episode 100: reward: 292.208, steps: 718\n"
     ]
    }
   ],
   "source": [
    "a = dqn.test(env, nb_episodes=100, visualize=False)"
   ]
  },
  {
   "cell_type": "code",
   "execution_count": 11,
   "metadata": {},
   "outputs": [
    {
     "data": {
      "text/plain": [
       "253.4654028731039"
      ]
     },
     "execution_count": 11,
     "metadata": {},
     "output_type": "execute_result"
    }
   ],
   "source": [
    "s=0\n",
    "for i in a.history['episode_reward']:\n",
    "    s+=i\n",
    "s/100\n",
    "    "
   ]
  },
  {
   "cell_type": "code",
   "execution_count": null,
   "metadata": {},
   "outputs": [],
   "source": []
  }
 ],
 "metadata": {
  "kernelspec": {
   "display_name": "Python 3",
   "language": "python",
   "name": "python3"
  },
  "language_info": {
   "codemirror_mode": {
    "name": "ipython",
    "version": 3
   },
   "file_extension": ".py",
   "mimetype": "text/x-python",
   "name": "python",
   "nbconvert_exporter": "python",
   "pygments_lexer": "ipython3",
   "version": "3.6.5"
  }
 },
 "nbformat": 4,
 "nbformat_minor": 2
}
