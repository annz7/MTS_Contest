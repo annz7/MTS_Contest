{
 "cells": [
  {
   "cell_type": "code",
   "execution_count": 12,
   "metadata": {},
   "outputs": [],
   "source": [
    "import numpy as np\n",
    "import gym\n",
    "\n",
    "from keras.models import Sequential\n",
    "from keras.layers import Dense, Activation, Flatten\n",
    "from keras.optimizers import Adam\n",
    "\n",
    "from rl.agents.dqn import DQNAgent\n",
    "from rl.policy import MaxBoltzmannQPolicy\n",
    "from rl.memory import SequentialMemory\n",
    "\n",
    "from keras.models import load_model\n",
    "from keras.models import model_from_json"
   ]
  },
  {
   "cell_type": "code",
   "execution_count": 13,
   "metadata": {},
   "outputs": [],
   "source": [
    "ENV_NAME = 'LunarLander-v2'\n",
    "\n",
    "# Get the environment and extract the number of actions available in the Cartpole problem\n",
    "env = gym.make(\"LunarLander-v2\")\n",
    "np.random.seed(123)\n",
    "env.seed(123)\n",
    "nb_actions = env.action_space.n"
   ]
  },
  {
   "cell_type": "code",
   "execution_count": null,
   "metadata": {},
   "outputs": [],
   "source": []
  },
  {
   "cell_type": "code",
   "execution_count": 14,
   "metadata": {},
   "outputs": [],
   "source": [
    "policy = MaxBoltzmannQPolicy()\n",
    "memory = SequentialMemory(limit=50000, window_length=1)"
   ]
  },
  {
   "cell_type": "code",
   "execution_count": null,
   "metadata": {},
   "outputs": [],
   "source": []
  },
  {
   "cell_type": "code",
   "execution_count": 15,
   "metadata": {},
   "outputs": [],
   "source": [
    "json_file = open(\"mnist_model280.json\", \"r\")\n",
    "loaded_model_json = json_file.read()\n",
    "json_file.close()\n",
    "\n",
    "loaded_model = model_from_json(loaded_model_json)\n",
    "\n",
    "loaded_model.load_weights(\"mnist_model280.h5\")"
   ]
  },
  {
   "cell_type": "code",
   "execution_count": 16,
   "metadata": {},
   "outputs": [],
   "source": [
    "dqn = DQNAgent(model=loaded_model, nb_actions=nb_actions, memory=memory, nb_steps_warmup=40,\n",
    "target_model_update=1e-2, policy=policy)\n",
    "\n",
    "dqn.compile(Adam(lr=1e-3), metrics=['mae'])"
   ]
  },
  {
   "cell_type": "code",
   "execution_count": 17,
   "metadata": {},
   "outputs": [
    {
     "name": "stdout",
     "output_type": "stream",
     "text": [
      "Testing for 100 episodes ...\n",
      "Episode 1: reward: 267.452, steps: 168\n",
      "Episode 2: reward: 291.222, steps: 224\n",
      "Episode 3: reward: 288.491, steps: 215\n",
      "Episode 4: reward: 301.515, steps: 183\n",
      "Episode 5: reward: 256.965, steps: 155\n",
      "Episode 6: reward: 245.416, steps: 184\n",
      "Episode 7: reward: 285.972, steps: 206\n",
      "Episode 8: reward: 291.514, steps: 195\n",
      "Episode 9: reward: 238.746, steps: 160\n",
      "Episode 10: reward: 287.224, steps: 188\n",
      "Episode 11: reward: 286.133, steps: 187\n",
      "Episode 12: reward: 303.469, steps: 222\n",
      "Episode 13: reward: 254.277, steps: 154\n",
      "Episode 14: reward: 252.099, steps: 205\n",
      "Episode 15: reward: 278.514, steps: 180\n",
      "Episode 16: reward: 287.056, steps: 192\n",
      "Episode 17: reward: 285.669, steps: 208\n",
      "Episode 18: reward: 274.123, steps: 202\n",
      "Episode 19: reward: 294.379, steps: 259\n",
      "Episode 20: reward: 312.094, steps: 254\n",
      "Episode 21: reward: 277.219, steps: 182\n",
      "Episode 22: reward: 266.777, steps: 210\n",
      "Episode 23: reward: 302.355, steps: 207\n",
      "Episode 24: reward: 305.109, steps: 214\n",
      "Episode 25: reward: 288.580, steps: 201\n",
      "Episode 26: reward: 280.507, steps: 198\n",
      "Episode 27: reward: 280.094, steps: 198\n",
      "Episode 28: reward: 287.185, steps: 204\n",
      "Episode 29: reward: 269.013, steps: 181\n",
      "Episode 30: reward: 311.148, steps: 231\n",
      "Episode 31: reward: 287.075, steps: 214\n",
      "Episode 32: reward: 278.197, steps: 185\n",
      "Episode 33: reward: 264.009, steps: 154\n",
      "Episode 34: reward: 272.027, steps: 172\n",
      "Episode 35: reward: 299.793, steps: 235\n",
      "Episode 36: reward: 289.740, steps: 217\n",
      "Episode 37: reward: 271.600, steps: 219\n",
      "Episode 38: reward: 283.195, steps: 931\n",
      "Episode 39: reward: 275.338, steps: 181\n",
      "Episode 40: reward: 293.623, steps: 209\n",
      "Episode 41: reward: 296.983, steps: 213\n",
      "Episode 42: reward: 286.895, steps: 161\n",
      "Episode 43: reward: 281.436, steps: 219\n",
      "Episode 44: reward: 248.251, steps: 166\n",
      "Episode 45: reward: 305.987, steps: 240\n",
      "Episode 46: reward: 277.151, steps: 228\n",
      "Episode 47: reward: 277.940, steps: 185\n",
      "Episode 48: reward: 279.486, steps: 220\n",
      "Episode 49: reward: 275.808, steps: 219\n",
      "Episode 50: reward: 296.929, steps: 231\n",
      "Episode 51: reward: 266.110, steps: 189\n",
      "Episode 52: reward: 278.380, steps: 221\n",
      "Episode 53: reward: 297.156, steps: 195\n",
      "Episode 54: reward: 257.605, steps: 193\n",
      "Episode 55: reward: 295.399, steps: 146\n",
      "Episode 56: reward: 297.787, steps: 218\n",
      "Episode 57: reward: 254.085, steps: 188\n",
      "Episode 58: reward: 273.756, steps: 182\n",
      "Episode 59: reward: 294.060, steps: 213\n",
      "Episode 60: reward: 276.791, steps: 150\n",
      "Episode 61: reward: 288.833, steps: 152\n",
      "Episode 62: reward: 293.387, steps: 225\n",
      "Episode 63: reward: 261.674, steps: 211\n",
      "Episode 64: reward: 307.920, steps: 226\n",
      "Episode 65: reward: 267.492, steps: 157\n",
      "Episode 66: reward: 299.634, steps: 211\n",
      "Episode 67: reward: 300.036, steps: 222\n",
      "Episode 68: reward: 290.812, steps: 211\n",
      "Episode 69: reward: 298.593, steps: 205\n",
      "Episode 70: reward: 306.195, steps: 177\n",
      "Episode 71: reward: 294.916, steps: 226\n",
      "Episode 72: reward: 282.879, steps: 193\n",
      "Episode 73: reward: 289.414, steps: 221\n",
      "Episode 74: reward: 274.013, steps: 169\n",
      "Episode 75: reward: 301.340, steps: 210\n",
      "Episode 76: reward: 257.503, steps: 175\n",
      "Episode 77: reward: 306.541, steps: 222\n",
      "Episode 78: reward: 261.252, steps: 153\n",
      "Episode 79: reward: 273.556, steps: 216\n",
      "Episode 80: reward: 302.063, steps: 197\n",
      "Episode 81: reward: 284.782, steps: 186\n",
      "Episode 82: reward: 311.726, steps: 246\n",
      "Episode 83: reward: 255.373, steps: 202\n",
      "Episode 84: reward: 243.265, steps: 197\n",
      "Episode 85: reward: 309.730, steps: 189\n",
      "Episode 86: reward: 303.682, steps: 219\n",
      "Episode 87: reward: 266.254, steps: 187\n",
      "Episode 88: reward: 278.685, steps: 185\n",
      "Episode 89: reward: 266.357, steps: 153\n",
      "Episode 90: reward: 300.639, steps: 204\n",
      "Episode 91: reward: 307.432, steps: 214\n",
      "Episode 92: reward: 286.625, steps: 243\n",
      "Episode 93: reward: 275.521, steps: 186\n",
      "Episode 94: reward: 293.601, steps: 272\n",
      "Episode 95: reward: 286.027, steps: 205\n",
      "Episode 96: reward: 290.120, steps: 205\n",
      "Episode 97: reward: 277.961, steps: 185\n",
      "Episode 98: reward: 290.761, steps: 207\n",
      "Episode 99: reward: 270.797, steps: 160\n",
      "Episode 100: reward: 284.374, steps: 220\n"
     ]
    }
   ],
   "source": [
    "a = dqn.test(env, nb_episodes=100, visualize=False)"
   ]
  },
  {
   "cell_type": "code",
   "execution_count": 18,
   "metadata": {},
   "outputs": [
    {
     "data": {
      "text/plain": [
       "283.2467243154573"
      ]
     },
     "execution_count": 18,
     "metadata": {},
     "output_type": "execute_result"
    }
   ],
   "source": [
    "s=0\n",
    "for i in a.history['episode_reward']:\n",
    "    s+=i\n",
    "s/100\n",
    "    "
   ]
  },
  {
   "cell_type": "code",
   "execution_count": null,
   "metadata": {},
   "outputs": [],
   "source": []
  }
 ],
 "metadata": {
  "kernelspec": {
   "display_name": "Python 3",
   "language": "python",
   "name": "python3"
  },
  "language_info": {
   "codemirror_mode": {
    "name": "ipython",
    "version": 3
   },
   "file_extension": ".py",
   "mimetype": "text/x-python",
   "name": "python",
   "nbconvert_exporter": "python",
   "pygments_lexer": "ipython3",
   "version": "3.6.5"
  }
 },
 "nbformat": 4,
 "nbformat_minor": 2
}
